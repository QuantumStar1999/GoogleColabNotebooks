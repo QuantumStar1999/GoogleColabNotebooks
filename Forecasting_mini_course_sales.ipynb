{
  "nbformat": 4,
  "nbformat_minor": 0,
  "metadata": {
    "colab": {
      "provenance": [],
      "authorship_tag": "ABX9TyNbxg44Cd89ubhKyh6fdQp1",
      "include_colab_link": true
    },
    "kernelspec": {
      "name": "python3",
      "display_name": "Python 3"
    },
    "language_info": {
      "name": "python"
    }
  },
  "cells": [
    {
      "cell_type": "markdown",
      "metadata": {
        "id": "view-in-github",
        "colab_type": "text"
      },
      "source": [
        "<a href=\"https://colab.research.google.com/github/QuantumStar1999/GoogleColabNotebooks/blob/main/Forecasting_mini_course_sales.ipynb\" target=\"_parent\"><img src=\"https://colab.research.google.com/assets/colab-badge.svg\" alt=\"Open In Colab\"/></a>"
      ]
    },
    {
      "cell_type": "code",
      "source": [
        "project_name = \"playground-series-s3e19\"\n",
        "token = {\"username\":\"santanukundu\",\"key\":\"********\"}"
      ],
      "metadata": {
        "id": "fYpPSWEnzgHn"
      },
      "execution_count": 1,
      "outputs": []
    },
    {
      "cell_type": "code",
      "source": [
        "import os, json\n",
        "os.environ['KAGGLE_CONFIG_DIR']='.'\n",
        "with open('kaggle.json', \"w\") as f:\n",
        "    json.dump(token, f)\n",
        "!chmod 600 ./kaggle.json\n",
        "!kaggle competitions download -c $project_name\n",
        "project_name += \".zip\"\n",
        "!unzip $project_name && rm $project_name"
      ],
      "metadata": {
        "colab": {
          "base_uri": "https://localhost:8080/"
        },
        "id": "4aRkjhsDyT0q",
        "outputId": "44a3c72e-1265-4673-82d2-5f447bd6dafb"
      },
      "execution_count": 2,
      "outputs": [
        {
          "output_type": "stream",
          "name": "stdout",
          "text": [
            "Downloading playground-series-s3e19.zip to /content\n",
            "\r  0% 0.00/1.18M [00:00<?, ?B/s]\n",
            "\r100% 1.18M/1.18M [00:00<00:00, 92.0MB/s]\n",
            "Archive:  playground-series-s3e19.zip\n",
            "  inflating: sample_submission.csv   \n",
            "  inflating: test.csv                \n",
            "  inflating: train.csv               \n"
          ]
        }
      ]
    },
    {
      "cell_type": "code",
      "source": [
        "import pandas as pd\n",
        "import numpy as np\n",
        "import matplotlib.pyplot as plt\n",
        "import seaborn as sns\n",
        "import plotly.express as px"
      ],
      "metadata": {
        "id": "5n8_HjHr1osS"
      },
      "execution_count": 3,
      "outputs": []
    },
    {
      "cell_type": "code",
      "source": [
        "import tensorflow as tf\n"
      ],
      "metadata": {
        "id": "lmTd6dc212GE"
      },
      "execution_count": 4,
      "outputs": []
    },
    {
      "cell_type": "code",
      "source": [
        "import holidays"
      ],
      "metadata": {
        "id": "KkBRvnBXbM0W"
      },
      "execution_count": 5,
      "outputs": []
    },
    {
      "cell_type": "code",
      "source": [
        "df =  pd.read_csv(\"train.csv\")\n",
        "df.head()"
      ],
      "metadata": {
        "colab": {
          "base_uri": "https://localhost:8080/",
          "height": 206
        },
        "id": "pRWIq3db13Nb",
        "outputId": "54a94575-984e-4ede-e46b-e00d999516d7"
      },
      "execution_count": 6,
      "outputs": [
        {
          "output_type": "execute_result",
          "data": {
            "text/plain": [
              "   id        date    country         store  \\\n",
              "0   0  2017-01-01  Argentina  Kaggle Learn   \n",
              "1   1  2017-01-01  Argentina  Kaggle Learn   \n",
              "2   2  2017-01-01  Argentina  Kaggle Learn   \n",
              "3   3  2017-01-01  Argentina  Kaggle Learn   \n",
              "4   4  2017-01-01  Argentina  Kaggle Learn   \n",
              "\n",
              "                                          product  num_sold  \n",
              "0               Using LLMs to Improve Your Coding        63  \n",
              "1                   Using LLMs to Train More LLMs        66  \n",
              "2  Using LLMs to Win Friends and Influence People         9  \n",
              "3      Using LLMs to Win More Kaggle Competitions        59  \n",
              "4                      Using LLMs to Write Better        49  "
            ],
            "text/html": [
              "\n",
              "\n",
              "  <div id=\"df-a6e1597b-8253-4d73-a299-df49ccd00ca7\">\n",
              "    <div class=\"colab-df-container\">\n",
              "      <div>\n",
              "<style scoped>\n",
              "    .dataframe tbody tr th:only-of-type {\n",
              "        vertical-align: middle;\n",
              "    }\n",
              "\n",
              "    .dataframe tbody tr th {\n",
              "        vertical-align: top;\n",
              "    }\n",
              "\n",
              "    .dataframe thead th {\n",
              "        text-align: right;\n",
              "    }\n",
              "</style>\n",
              "<table border=\"1\" class=\"dataframe\">\n",
              "  <thead>\n",
              "    <tr style=\"text-align: right;\">\n",
              "      <th></th>\n",
              "      <th>id</th>\n",
              "      <th>date</th>\n",
              "      <th>country</th>\n",
              "      <th>store</th>\n",
              "      <th>product</th>\n",
              "      <th>num_sold</th>\n",
              "    </tr>\n",
              "  </thead>\n",
              "  <tbody>\n",
              "    <tr>\n",
              "      <th>0</th>\n",
              "      <td>0</td>\n",
              "      <td>2017-01-01</td>\n",
              "      <td>Argentina</td>\n",
              "      <td>Kaggle Learn</td>\n",
              "      <td>Using LLMs to Improve Your Coding</td>\n",
              "      <td>63</td>\n",
              "    </tr>\n",
              "    <tr>\n",
              "      <th>1</th>\n",
              "      <td>1</td>\n",
              "      <td>2017-01-01</td>\n",
              "      <td>Argentina</td>\n",
              "      <td>Kaggle Learn</td>\n",
              "      <td>Using LLMs to Train More LLMs</td>\n",
              "      <td>66</td>\n",
              "    </tr>\n",
              "    <tr>\n",
              "      <th>2</th>\n",
              "      <td>2</td>\n",
              "      <td>2017-01-01</td>\n",
              "      <td>Argentina</td>\n",
              "      <td>Kaggle Learn</td>\n",
              "      <td>Using LLMs to Win Friends and Influence People</td>\n",
              "      <td>9</td>\n",
              "    </tr>\n",
              "    <tr>\n",
              "      <th>3</th>\n",
              "      <td>3</td>\n",
              "      <td>2017-01-01</td>\n",
              "      <td>Argentina</td>\n",
              "      <td>Kaggle Learn</td>\n",
              "      <td>Using LLMs to Win More Kaggle Competitions</td>\n",
              "      <td>59</td>\n",
              "    </tr>\n",
              "    <tr>\n",
              "      <th>4</th>\n",
              "      <td>4</td>\n",
              "      <td>2017-01-01</td>\n",
              "      <td>Argentina</td>\n",
              "      <td>Kaggle Learn</td>\n",
              "      <td>Using LLMs to Write Better</td>\n",
              "      <td>49</td>\n",
              "    </tr>\n",
              "  </tbody>\n",
              "</table>\n",
              "</div>\n",
              "      <button class=\"colab-df-convert\" onclick=\"convertToInteractive('df-a6e1597b-8253-4d73-a299-df49ccd00ca7')\"\n",
              "              title=\"Convert this dataframe to an interactive table.\"\n",
              "              style=\"display:none;\">\n",
              "\n",
              "  <svg xmlns=\"http://www.w3.org/2000/svg\" height=\"24px\"viewBox=\"0 0 24 24\"\n",
              "       width=\"24px\">\n",
              "    <path d=\"M0 0h24v24H0V0z\" fill=\"none\"/>\n",
              "    <path d=\"M18.56 5.44l.94 2.06.94-2.06 2.06-.94-2.06-.94-.94-2.06-.94 2.06-2.06.94zm-11 1L8.5 8.5l.94-2.06 2.06-.94-2.06-.94L8.5 2.5l-.94 2.06-2.06.94zm10 10l.94 2.06.94-2.06 2.06-.94-2.06-.94-.94-2.06-.94 2.06-2.06.94z\"/><path d=\"M17.41 7.96l-1.37-1.37c-.4-.4-.92-.59-1.43-.59-.52 0-1.04.2-1.43.59L10.3 9.45l-7.72 7.72c-.78.78-.78 2.05 0 2.83L4 21.41c.39.39.9.59 1.41.59.51 0 1.02-.2 1.41-.59l7.78-7.78 2.81-2.81c.8-.78.8-2.07 0-2.86zM5.41 20L4 18.59l7.72-7.72 1.47 1.35L5.41 20z\"/>\n",
              "  </svg>\n",
              "      </button>\n",
              "\n",
              "\n",
              "\n",
              "    <div id=\"df-7cf6c9e1-c462-4859-bade-80963d5aacea\">\n",
              "      <button class=\"colab-df-quickchart\" onclick=\"quickchart('df-7cf6c9e1-c462-4859-bade-80963d5aacea')\"\n",
              "              title=\"Suggest charts.\"\n",
              "              style=\"display:none;\">\n",
              "\n",
              "<svg xmlns=\"http://www.w3.org/2000/svg\" height=\"24px\"viewBox=\"0 0 24 24\"\n",
              "     width=\"24px\">\n",
              "    <g>\n",
              "        <path d=\"M19 3H5c-1.1 0-2 .9-2 2v14c0 1.1.9 2 2 2h14c1.1 0 2-.9 2-2V5c0-1.1-.9-2-2-2zM9 17H7v-7h2v7zm4 0h-2V7h2v10zm4 0h-2v-4h2v4z\"/>\n",
              "    </g>\n",
              "</svg>\n",
              "      </button>\n",
              "    </div>\n",
              "\n",
              "<style>\n",
              "  .colab-df-quickchart {\n",
              "    background-color: #E8F0FE;\n",
              "    border: none;\n",
              "    border-radius: 50%;\n",
              "    cursor: pointer;\n",
              "    display: none;\n",
              "    fill: #1967D2;\n",
              "    height: 32px;\n",
              "    padding: 0 0 0 0;\n",
              "    width: 32px;\n",
              "  }\n",
              "\n",
              "  .colab-df-quickchart:hover {\n",
              "    background-color: #E2EBFA;\n",
              "    box-shadow: 0px 1px 2px rgba(60, 64, 67, 0.3), 0px 1px 3px 1px rgba(60, 64, 67, 0.15);\n",
              "    fill: #174EA6;\n",
              "  }\n",
              "\n",
              "  [theme=dark] .colab-df-quickchart {\n",
              "    background-color: #3B4455;\n",
              "    fill: #D2E3FC;\n",
              "  }\n",
              "\n",
              "  [theme=dark] .colab-df-quickchart:hover {\n",
              "    background-color: #434B5C;\n",
              "    box-shadow: 0px 1px 3px 1px rgba(0, 0, 0, 0.15);\n",
              "    filter: drop-shadow(0px 1px 2px rgba(0, 0, 0, 0.3));\n",
              "    fill: #FFFFFF;\n",
              "  }\n",
              "</style>\n",
              "\n",
              "    <script>\n",
              "      async function quickchart(key) {\n",
              "        const containerElement = document.querySelector('#' + key);\n",
              "        const charts = await google.colab.kernel.invokeFunction(\n",
              "            'suggestCharts', [key], {});\n",
              "      }\n",
              "    </script>\n",
              "\n",
              "      <script>\n",
              "\n",
              "function displayQuickchartButton(domScope) {\n",
              "  let quickchartButtonEl =\n",
              "    domScope.querySelector('#df-7cf6c9e1-c462-4859-bade-80963d5aacea button.colab-df-quickchart');\n",
              "  quickchartButtonEl.style.display =\n",
              "    google.colab.kernel.accessAllowed ? 'block' : 'none';\n",
              "}\n",
              "\n",
              "        displayQuickchartButton(document);\n",
              "      </script>\n",
              "      <style>\n",
              "    .colab-df-container {\n",
              "      display:flex;\n",
              "      flex-wrap:wrap;\n",
              "      gap: 12px;\n",
              "    }\n",
              "\n",
              "    .colab-df-convert {\n",
              "      background-color: #E8F0FE;\n",
              "      border: none;\n",
              "      border-radius: 50%;\n",
              "      cursor: pointer;\n",
              "      display: none;\n",
              "      fill: #1967D2;\n",
              "      height: 32px;\n",
              "      padding: 0 0 0 0;\n",
              "      width: 32px;\n",
              "    }\n",
              "\n",
              "    .colab-df-convert:hover {\n",
              "      background-color: #E2EBFA;\n",
              "      box-shadow: 0px 1px 2px rgba(60, 64, 67, 0.3), 0px 1px 3px 1px rgba(60, 64, 67, 0.15);\n",
              "      fill: #174EA6;\n",
              "    }\n",
              "\n",
              "    [theme=dark] .colab-df-convert {\n",
              "      background-color: #3B4455;\n",
              "      fill: #D2E3FC;\n",
              "    }\n",
              "\n",
              "    [theme=dark] .colab-df-convert:hover {\n",
              "      background-color: #434B5C;\n",
              "      box-shadow: 0px 1px 3px 1px rgba(0, 0, 0, 0.15);\n",
              "      filter: drop-shadow(0px 1px 2px rgba(0, 0, 0, 0.3));\n",
              "      fill: #FFFFFF;\n",
              "    }\n",
              "  </style>\n",
              "\n",
              "      <script>\n",
              "        const buttonEl =\n",
              "          document.querySelector('#df-a6e1597b-8253-4d73-a299-df49ccd00ca7 button.colab-df-convert');\n",
              "        buttonEl.style.display =\n",
              "          google.colab.kernel.accessAllowed ? 'block' : 'none';\n",
              "\n",
              "        async function convertToInteractive(key) {\n",
              "          const element = document.querySelector('#df-a6e1597b-8253-4d73-a299-df49ccd00ca7');\n",
              "          const dataTable =\n",
              "            await google.colab.kernel.invokeFunction('convertToInteractive',\n",
              "                                                     [key], {});\n",
              "          if (!dataTable) return;\n",
              "\n",
              "          const docLinkHtml = 'Like what you see? Visit the ' +\n",
              "            '<a target=\"_blank\" href=https://colab.research.google.com/notebooks/data_table.ipynb>data table notebook</a>'\n",
              "            + ' to learn more about interactive tables.';\n",
              "          element.innerHTML = '';\n",
              "          dataTable['output_type'] = 'display_data';\n",
              "          await google.colab.output.renderOutput(dataTable, element);\n",
              "          const docLink = document.createElement('div');\n",
              "          docLink.innerHTML = docLinkHtml;\n",
              "          element.appendChild(docLink);\n",
              "        }\n",
              "      </script>\n",
              "    </div>\n",
              "  </div>\n"
            ]
          },
          "metadata": {},
          "execution_count": 6
        }
      ]
    },
    {
      "cell_type": "code",
      "source": [
        "df.drop_duplicates(inplace=True)\n",
        "df.drop('id',axis=1,inplace=True)\n",
        "print(\"shape: \", df.shape)\n",
        "df.isnull().sum()"
      ],
      "metadata": {
        "colab": {
          "base_uri": "https://localhost:8080/"
        },
        "id": "IbsONPX12Ksy",
        "outputId": "e8f8d412-0ca4-4b85-ee01-1f66e1475667"
      },
      "execution_count": 7,
      "outputs": [
        {
          "output_type": "stream",
          "name": "stdout",
          "text": [
            "shape:  (136950, 5)\n"
          ]
        },
        {
          "output_type": "execute_result",
          "data": {
            "text/plain": [
              "date        0\n",
              "country     0\n",
              "store       0\n",
              "product     0\n",
              "num_sold    0\n",
              "dtype: int64"
            ]
          },
          "metadata": {},
          "execution_count": 7
        }
      ]
    },
    {
      "cell_type": "code",
      "source": [
        "df.head()"
      ],
      "metadata": {
        "colab": {
          "base_uri": "https://localhost:8080/",
          "height": 206
        },
        "id": "h8Jy6P7Q4csA",
        "outputId": "3676e982-6d0e-467a-c570-a9c6683e2b17"
      },
      "execution_count": 8,
      "outputs": [
        {
          "output_type": "execute_result",
          "data": {
            "text/plain": [
              "         date    country         store  \\\n",
              "0  2017-01-01  Argentina  Kaggle Learn   \n",
              "1  2017-01-01  Argentina  Kaggle Learn   \n",
              "2  2017-01-01  Argentina  Kaggle Learn   \n",
              "3  2017-01-01  Argentina  Kaggle Learn   \n",
              "4  2017-01-01  Argentina  Kaggle Learn   \n",
              "\n",
              "                                          product  num_sold  \n",
              "0               Using LLMs to Improve Your Coding        63  \n",
              "1                   Using LLMs to Train More LLMs        66  \n",
              "2  Using LLMs to Win Friends and Influence People         9  \n",
              "3      Using LLMs to Win More Kaggle Competitions        59  \n",
              "4                      Using LLMs to Write Better        49  "
            ],
            "text/html": [
              "\n",
              "\n",
              "  <div id=\"df-f96d2a3f-5493-4f49-a29a-036660ee659d\">\n",
              "    <div class=\"colab-df-container\">\n",
              "      <div>\n",
              "<style scoped>\n",
              "    .dataframe tbody tr th:only-of-type {\n",
              "        vertical-align: middle;\n",
              "    }\n",
              "\n",
              "    .dataframe tbody tr th {\n",
              "        vertical-align: top;\n",
              "    }\n",
              "\n",
              "    .dataframe thead th {\n",
              "        text-align: right;\n",
              "    }\n",
              "</style>\n",
              "<table border=\"1\" class=\"dataframe\">\n",
              "  <thead>\n",
              "    <tr style=\"text-align: right;\">\n",
              "      <th></th>\n",
              "      <th>date</th>\n",
              "      <th>country</th>\n",
              "      <th>store</th>\n",
              "      <th>product</th>\n",
              "      <th>num_sold</th>\n",
              "    </tr>\n",
              "  </thead>\n",
              "  <tbody>\n",
              "    <tr>\n",
              "      <th>0</th>\n",
              "      <td>2017-01-01</td>\n",
              "      <td>Argentina</td>\n",
              "      <td>Kaggle Learn</td>\n",
              "      <td>Using LLMs to Improve Your Coding</td>\n",
              "      <td>63</td>\n",
              "    </tr>\n",
              "    <tr>\n",
              "      <th>1</th>\n",
              "      <td>2017-01-01</td>\n",
              "      <td>Argentina</td>\n",
              "      <td>Kaggle Learn</td>\n",
              "      <td>Using LLMs to Train More LLMs</td>\n",
              "      <td>66</td>\n",
              "    </tr>\n",
              "    <tr>\n",
              "      <th>2</th>\n",
              "      <td>2017-01-01</td>\n",
              "      <td>Argentina</td>\n",
              "      <td>Kaggle Learn</td>\n",
              "      <td>Using LLMs to Win Friends and Influence People</td>\n",
              "      <td>9</td>\n",
              "    </tr>\n",
              "    <tr>\n",
              "      <th>3</th>\n",
              "      <td>2017-01-01</td>\n",
              "      <td>Argentina</td>\n",
              "      <td>Kaggle Learn</td>\n",
              "      <td>Using LLMs to Win More Kaggle Competitions</td>\n",
              "      <td>59</td>\n",
              "    </tr>\n",
              "    <tr>\n",
              "      <th>4</th>\n",
              "      <td>2017-01-01</td>\n",
              "      <td>Argentina</td>\n",
              "      <td>Kaggle Learn</td>\n",
              "      <td>Using LLMs to Write Better</td>\n",
              "      <td>49</td>\n",
              "    </tr>\n",
              "  </tbody>\n",
              "</table>\n",
              "</div>\n",
              "      <button class=\"colab-df-convert\" onclick=\"convertToInteractive('df-f96d2a3f-5493-4f49-a29a-036660ee659d')\"\n",
              "              title=\"Convert this dataframe to an interactive table.\"\n",
              "              style=\"display:none;\">\n",
              "\n",
              "  <svg xmlns=\"http://www.w3.org/2000/svg\" height=\"24px\"viewBox=\"0 0 24 24\"\n",
              "       width=\"24px\">\n",
              "    <path d=\"M0 0h24v24H0V0z\" fill=\"none\"/>\n",
              "    <path d=\"M18.56 5.44l.94 2.06.94-2.06 2.06-.94-2.06-.94-.94-2.06-.94 2.06-2.06.94zm-11 1L8.5 8.5l.94-2.06 2.06-.94-2.06-.94L8.5 2.5l-.94 2.06-2.06.94zm10 10l.94 2.06.94-2.06 2.06-.94-2.06-.94-.94-2.06-.94 2.06-2.06.94z\"/><path d=\"M17.41 7.96l-1.37-1.37c-.4-.4-.92-.59-1.43-.59-.52 0-1.04.2-1.43.59L10.3 9.45l-7.72 7.72c-.78.78-.78 2.05 0 2.83L4 21.41c.39.39.9.59 1.41.59.51 0 1.02-.2 1.41-.59l7.78-7.78 2.81-2.81c.8-.78.8-2.07 0-2.86zM5.41 20L4 18.59l7.72-7.72 1.47 1.35L5.41 20z\"/>\n",
              "  </svg>\n",
              "      </button>\n",
              "\n",
              "\n",
              "\n",
              "    <div id=\"df-e2b5646d-316d-489a-ba36-3fb6b26eaab8\">\n",
              "      <button class=\"colab-df-quickchart\" onclick=\"quickchart('df-e2b5646d-316d-489a-ba36-3fb6b26eaab8')\"\n",
              "              title=\"Suggest charts.\"\n",
              "              style=\"display:none;\">\n",
              "\n",
              "<svg xmlns=\"http://www.w3.org/2000/svg\" height=\"24px\"viewBox=\"0 0 24 24\"\n",
              "     width=\"24px\">\n",
              "    <g>\n",
              "        <path d=\"M19 3H5c-1.1 0-2 .9-2 2v14c0 1.1.9 2 2 2h14c1.1 0 2-.9 2-2V5c0-1.1-.9-2-2-2zM9 17H7v-7h2v7zm4 0h-2V7h2v10zm4 0h-2v-4h2v4z\"/>\n",
              "    </g>\n",
              "</svg>\n",
              "      </button>\n",
              "    </div>\n",
              "\n",
              "<style>\n",
              "  .colab-df-quickchart {\n",
              "    background-color: #E8F0FE;\n",
              "    border: none;\n",
              "    border-radius: 50%;\n",
              "    cursor: pointer;\n",
              "    display: none;\n",
              "    fill: #1967D2;\n",
              "    height: 32px;\n",
              "    padding: 0 0 0 0;\n",
              "    width: 32px;\n",
              "  }\n",
              "\n",
              "  .colab-df-quickchart:hover {\n",
              "    background-color: #E2EBFA;\n",
              "    box-shadow: 0px 1px 2px rgba(60, 64, 67, 0.3), 0px 1px 3px 1px rgba(60, 64, 67, 0.15);\n",
              "    fill: #174EA6;\n",
              "  }\n",
              "\n",
              "  [theme=dark] .colab-df-quickchart {\n",
              "    background-color: #3B4455;\n",
              "    fill: #D2E3FC;\n",
              "  }\n",
              "\n",
              "  [theme=dark] .colab-df-quickchart:hover {\n",
              "    background-color: #434B5C;\n",
              "    box-shadow: 0px 1px 3px 1px rgba(0, 0, 0, 0.15);\n",
              "    filter: drop-shadow(0px 1px 2px rgba(0, 0, 0, 0.3));\n",
              "    fill: #FFFFFF;\n",
              "  }\n",
              "</style>\n",
              "\n",
              "    <script>\n",
              "      async function quickchart(key) {\n",
              "        const containerElement = document.querySelector('#' + key);\n",
              "        const charts = await google.colab.kernel.invokeFunction(\n",
              "            'suggestCharts', [key], {});\n",
              "      }\n",
              "    </script>\n",
              "\n",
              "      <script>\n",
              "\n",
              "function displayQuickchartButton(domScope) {\n",
              "  let quickchartButtonEl =\n",
              "    domScope.querySelector('#df-e2b5646d-316d-489a-ba36-3fb6b26eaab8 button.colab-df-quickchart');\n",
              "  quickchartButtonEl.style.display =\n",
              "    google.colab.kernel.accessAllowed ? 'block' : 'none';\n",
              "}\n",
              "\n",
              "        displayQuickchartButton(document);\n",
              "      </script>\n",
              "      <style>\n",
              "    .colab-df-container {\n",
              "      display:flex;\n",
              "      flex-wrap:wrap;\n",
              "      gap: 12px;\n",
              "    }\n",
              "\n",
              "    .colab-df-convert {\n",
              "      background-color: #E8F0FE;\n",
              "      border: none;\n",
              "      border-radius: 50%;\n",
              "      cursor: pointer;\n",
              "      display: none;\n",
              "      fill: #1967D2;\n",
              "      height: 32px;\n",
              "      padding: 0 0 0 0;\n",
              "      width: 32px;\n",
              "    }\n",
              "\n",
              "    .colab-df-convert:hover {\n",
              "      background-color: #E2EBFA;\n",
              "      box-shadow: 0px 1px 2px rgba(60, 64, 67, 0.3), 0px 1px 3px 1px rgba(60, 64, 67, 0.15);\n",
              "      fill: #174EA6;\n",
              "    }\n",
              "\n",
              "    [theme=dark] .colab-df-convert {\n",
              "      background-color: #3B4455;\n",
              "      fill: #D2E3FC;\n",
              "    }\n",
              "\n",
              "    [theme=dark] .colab-df-convert:hover {\n",
              "      background-color: #434B5C;\n",
              "      box-shadow: 0px 1px 3px 1px rgba(0, 0, 0, 0.15);\n",
              "      filter: drop-shadow(0px 1px 2px rgba(0, 0, 0, 0.3));\n",
              "      fill: #FFFFFF;\n",
              "    }\n",
              "  </style>\n",
              "\n",
              "      <script>\n",
              "        const buttonEl =\n",
              "          document.querySelector('#df-f96d2a3f-5493-4f49-a29a-036660ee659d button.colab-df-convert');\n",
              "        buttonEl.style.display =\n",
              "          google.colab.kernel.accessAllowed ? 'block' : 'none';\n",
              "\n",
              "        async function convertToInteractive(key) {\n",
              "          const element = document.querySelector('#df-f96d2a3f-5493-4f49-a29a-036660ee659d');\n",
              "          const dataTable =\n",
              "            await google.colab.kernel.invokeFunction('convertToInteractive',\n",
              "                                                     [key], {});\n",
              "          if (!dataTable) return;\n",
              "\n",
              "          const docLinkHtml = 'Like what you see? Visit the ' +\n",
              "            '<a target=\"_blank\" href=https://colab.research.google.com/notebooks/data_table.ipynb>data table notebook</a>'\n",
              "            + ' to learn more about interactive tables.';\n",
              "          element.innerHTML = '';\n",
              "          dataTable['output_type'] = 'display_data';\n",
              "          await google.colab.output.renderOutput(dataTable, element);\n",
              "          const docLink = document.createElement('div');\n",
              "          docLink.innerHTML = docLinkHtml;\n",
              "          element.appendChild(docLink);\n",
              "        }\n",
              "      </script>\n",
              "    </div>\n",
              "  </div>\n"
            ]
          },
          "metadata": {},
          "execution_count": 8
        }
      ]
    },
    {
      "cell_type": "code",
      "source": [
        "df['country'].unique()"
      ],
      "metadata": {
        "colab": {
          "base_uri": "https://localhost:8080/"
        },
        "id": "QiMHKmej2zIb",
        "outputId": "867e294e-6fd5-421a-804d-158fe8e8c38f"
      },
      "execution_count": 9,
      "outputs": [
        {
          "output_type": "execute_result",
          "data": {
            "text/plain": [
              "array(['Argentina', 'Canada', 'Estonia', 'Japan', 'Spain'], dtype=object)"
            ]
          },
          "metadata": {},
          "execution_count": 9
        }
      ]
    },
    {
      "cell_type": "code",
      "source": [
        "df['store'].unique()"
      ],
      "metadata": {
        "colab": {
          "base_uri": "https://localhost:8080/"
        },
        "id": "2KWkULPn4HEn",
        "outputId": "7da6cde4-161f-4bba-d255-2eedabf175da"
      },
      "execution_count": 10,
      "outputs": [
        {
          "output_type": "execute_result",
          "data": {
            "text/plain": [
              "array(['Kaggle Learn', 'Kaggle Store', 'Kagglazon'], dtype=object)"
            ]
          },
          "metadata": {},
          "execution_count": 10
        }
      ]
    },
    {
      "cell_type": "code",
      "source": [
        "df['product'].unique()"
      ],
      "metadata": {
        "colab": {
          "base_uri": "https://localhost:8080/"
        },
        "id": "gXAHdgAs4nZL",
        "outputId": "81ed983c-4e9c-47e6-9814-ca5208db0b31"
      },
      "execution_count": 11,
      "outputs": [
        {
          "output_type": "execute_result",
          "data": {
            "text/plain": [
              "array(['Using LLMs to Improve Your Coding',\n",
              "       'Using LLMs to Train More LLMs',\n",
              "       'Using LLMs to Win Friends and Influence People',\n",
              "       'Using LLMs to Win More Kaggle Competitions',\n",
              "       'Using LLMs to Write Better'], dtype=object)"
            ]
          },
          "metadata": {},
          "execution_count": 11
        }
      ]
    },
    {
      "cell_type": "code",
      "source": [
        "countries, stores, products = list(df['country'].unique()), list(df['store'].unique()), list(df['product'].unique())"
      ],
      "metadata": {
        "id": "EUy64MW17RuZ"
      },
      "execution_count": 12,
      "outputs": []
    },
    {
      "cell_type": "code",
      "source": [
        "# i= 1\n",
        "# for c in countries[:2]:\n",
        "#   for s in stores[:2]:\n",
        "#     for p in products[:2]:\n",
        "#       x = df[(df['country']==c) & (df['store']==s) &(df['product']==p)][['date', 'num_sold']]\n",
        "#       plt.figure(i, figsize=(20,10))\n",
        "#       plt.plot(x['date'], x['num_sold'])\n",
        "#       plt.ylabel(\"Num_of_Sales\")\n",
        "#       plt.xlabel(\"Date\")\n",
        "#       plt.title(f\"country:{c}, store: {s}, product: {p}\")\n",
        "#       plt.show()"
      ],
      "metadata": {
        "id": "2A0Wj-Cc89n6"
      },
      "execution_count": 13,
      "outputs": []
    },
    {
      "cell_type": "code",
      "source": [
        "c , s, p = 'Argentina', 'Kaggle Learn', 'Using LLMs to Improve Your Coding'\n",
        "x = df[(df['country']==c) & (df['store']==s) &(df['product']==p)][['date', 'num_sold']]"
      ],
      "metadata": {
        "id": "F24znT_sBT8f"
      },
      "execution_count": 14,
      "outputs": []
    },
    {
      "cell_type": "code",
      "source": [
        "x.describe()"
      ],
      "metadata": {
        "colab": {
          "base_uri": "https://localhost:8080/",
          "height": 300
        },
        "id": "MllkE-VfEUtS",
        "outputId": "08e04cc5-91c0-49ef-f3ea-b9222fd97f79"
      },
      "execution_count": 15,
      "outputs": [
        {
          "output_type": "execute_result",
          "data": {
            "text/plain": [
              "          num_sold\n",
              "count  1826.000000\n",
              "mean     29.885542\n",
              "std       7.787840\n",
              "min      12.000000\n",
              "25%      24.000000\n",
              "50%      29.000000\n",
              "75%      34.000000\n",
              "max      65.000000"
            ],
            "text/html": [
              "\n",
              "\n",
              "  <div id=\"df-3dfbe3b0-07bc-43c3-bdcc-506aebc6b7b3\">\n",
              "    <div class=\"colab-df-container\">\n",
              "      <div>\n",
              "<style scoped>\n",
              "    .dataframe tbody tr th:only-of-type {\n",
              "        vertical-align: middle;\n",
              "    }\n",
              "\n",
              "    .dataframe tbody tr th {\n",
              "        vertical-align: top;\n",
              "    }\n",
              "\n",
              "    .dataframe thead th {\n",
              "        text-align: right;\n",
              "    }\n",
              "</style>\n",
              "<table border=\"1\" class=\"dataframe\">\n",
              "  <thead>\n",
              "    <tr style=\"text-align: right;\">\n",
              "      <th></th>\n",
              "      <th>num_sold</th>\n",
              "    </tr>\n",
              "  </thead>\n",
              "  <tbody>\n",
              "    <tr>\n",
              "      <th>count</th>\n",
              "      <td>1826.000000</td>\n",
              "    </tr>\n",
              "    <tr>\n",
              "      <th>mean</th>\n",
              "      <td>29.885542</td>\n",
              "    </tr>\n",
              "    <tr>\n",
              "      <th>std</th>\n",
              "      <td>7.787840</td>\n",
              "    </tr>\n",
              "    <tr>\n",
              "      <th>min</th>\n",
              "      <td>12.000000</td>\n",
              "    </tr>\n",
              "    <tr>\n",
              "      <th>25%</th>\n",
              "      <td>24.000000</td>\n",
              "    </tr>\n",
              "    <tr>\n",
              "      <th>50%</th>\n",
              "      <td>29.000000</td>\n",
              "    </tr>\n",
              "    <tr>\n",
              "      <th>75%</th>\n",
              "      <td>34.000000</td>\n",
              "    </tr>\n",
              "    <tr>\n",
              "      <th>max</th>\n",
              "      <td>65.000000</td>\n",
              "    </tr>\n",
              "  </tbody>\n",
              "</table>\n",
              "</div>\n",
              "      <button class=\"colab-df-convert\" onclick=\"convertToInteractive('df-3dfbe3b0-07bc-43c3-bdcc-506aebc6b7b3')\"\n",
              "              title=\"Convert this dataframe to an interactive table.\"\n",
              "              style=\"display:none;\">\n",
              "\n",
              "  <svg xmlns=\"http://www.w3.org/2000/svg\" height=\"24px\"viewBox=\"0 0 24 24\"\n",
              "       width=\"24px\">\n",
              "    <path d=\"M0 0h24v24H0V0z\" fill=\"none\"/>\n",
              "    <path d=\"M18.56 5.44l.94 2.06.94-2.06 2.06-.94-2.06-.94-.94-2.06-.94 2.06-2.06.94zm-11 1L8.5 8.5l.94-2.06 2.06-.94-2.06-.94L8.5 2.5l-.94 2.06-2.06.94zm10 10l.94 2.06.94-2.06 2.06-.94-2.06-.94-.94-2.06-.94 2.06-2.06.94z\"/><path d=\"M17.41 7.96l-1.37-1.37c-.4-.4-.92-.59-1.43-.59-.52 0-1.04.2-1.43.59L10.3 9.45l-7.72 7.72c-.78.78-.78 2.05 0 2.83L4 21.41c.39.39.9.59 1.41.59.51 0 1.02-.2 1.41-.59l7.78-7.78 2.81-2.81c.8-.78.8-2.07 0-2.86zM5.41 20L4 18.59l7.72-7.72 1.47 1.35L5.41 20z\"/>\n",
              "  </svg>\n",
              "      </button>\n",
              "\n",
              "\n",
              "\n",
              "    <div id=\"df-f5927334-3e50-4ce3-9051-ec86e6a704d6\">\n",
              "      <button class=\"colab-df-quickchart\" onclick=\"quickchart('df-f5927334-3e50-4ce3-9051-ec86e6a704d6')\"\n",
              "              title=\"Suggest charts.\"\n",
              "              style=\"display:none;\">\n",
              "\n",
              "<svg xmlns=\"http://www.w3.org/2000/svg\" height=\"24px\"viewBox=\"0 0 24 24\"\n",
              "     width=\"24px\">\n",
              "    <g>\n",
              "        <path d=\"M19 3H5c-1.1 0-2 .9-2 2v14c0 1.1.9 2 2 2h14c1.1 0 2-.9 2-2V5c0-1.1-.9-2-2-2zM9 17H7v-7h2v7zm4 0h-2V7h2v10zm4 0h-2v-4h2v4z\"/>\n",
              "    </g>\n",
              "</svg>\n",
              "      </button>\n",
              "    </div>\n",
              "\n",
              "<style>\n",
              "  .colab-df-quickchart {\n",
              "    background-color: #E8F0FE;\n",
              "    border: none;\n",
              "    border-radius: 50%;\n",
              "    cursor: pointer;\n",
              "    display: none;\n",
              "    fill: #1967D2;\n",
              "    height: 32px;\n",
              "    padding: 0 0 0 0;\n",
              "    width: 32px;\n",
              "  }\n",
              "\n",
              "  .colab-df-quickchart:hover {\n",
              "    background-color: #E2EBFA;\n",
              "    box-shadow: 0px 1px 2px rgba(60, 64, 67, 0.3), 0px 1px 3px 1px rgba(60, 64, 67, 0.15);\n",
              "    fill: #174EA6;\n",
              "  }\n",
              "\n",
              "  [theme=dark] .colab-df-quickchart {\n",
              "    background-color: #3B4455;\n",
              "    fill: #D2E3FC;\n",
              "  }\n",
              "\n",
              "  [theme=dark] .colab-df-quickchart:hover {\n",
              "    background-color: #434B5C;\n",
              "    box-shadow: 0px 1px 3px 1px rgba(0, 0, 0, 0.15);\n",
              "    filter: drop-shadow(0px 1px 2px rgba(0, 0, 0, 0.3));\n",
              "    fill: #FFFFFF;\n",
              "  }\n",
              "</style>\n",
              "\n",
              "    <script>\n",
              "      async function quickchart(key) {\n",
              "        const containerElement = document.querySelector('#' + key);\n",
              "        const charts = await google.colab.kernel.invokeFunction(\n",
              "            'suggestCharts', [key], {});\n",
              "      }\n",
              "    </script>\n",
              "\n",
              "      <script>\n",
              "\n",
              "function displayQuickchartButton(domScope) {\n",
              "  let quickchartButtonEl =\n",
              "    domScope.querySelector('#df-f5927334-3e50-4ce3-9051-ec86e6a704d6 button.colab-df-quickchart');\n",
              "  quickchartButtonEl.style.display =\n",
              "    google.colab.kernel.accessAllowed ? 'block' : 'none';\n",
              "}\n",
              "\n",
              "        displayQuickchartButton(document);\n",
              "      </script>\n",
              "      <style>\n",
              "    .colab-df-container {\n",
              "      display:flex;\n",
              "      flex-wrap:wrap;\n",
              "      gap: 12px;\n",
              "    }\n",
              "\n",
              "    .colab-df-convert {\n",
              "      background-color: #E8F0FE;\n",
              "      border: none;\n",
              "      border-radius: 50%;\n",
              "      cursor: pointer;\n",
              "      display: none;\n",
              "      fill: #1967D2;\n",
              "      height: 32px;\n",
              "      padding: 0 0 0 0;\n",
              "      width: 32px;\n",
              "    }\n",
              "\n",
              "    .colab-df-convert:hover {\n",
              "      background-color: #E2EBFA;\n",
              "      box-shadow: 0px 1px 2px rgba(60, 64, 67, 0.3), 0px 1px 3px 1px rgba(60, 64, 67, 0.15);\n",
              "      fill: #174EA6;\n",
              "    }\n",
              "\n",
              "    [theme=dark] .colab-df-convert {\n",
              "      background-color: #3B4455;\n",
              "      fill: #D2E3FC;\n",
              "    }\n",
              "\n",
              "    [theme=dark] .colab-df-convert:hover {\n",
              "      background-color: #434B5C;\n",
              "      box-shadow: 0px 1px 3px 1px rgba(0, 0, 0, 0.15);\n",
              "      filter: drop-shadow(0px 1px 2px rgba(0, 0, 0, 0.3));\n",
              "      fill: #FFFFFF;\n",
              "    }\n",
              "  </style>\n",
              "\n",
              "      <script>\n",
              "        const buttonEl =\n",
              "          document.querySelector('#df-3dfbe3b0-07bc-43c3-bdcc-506aebc6b7b3 button.colab-df-convert');\n",
              "        buttonEl.style.display =\n",
              "          google.colab.kernel.accessAllowed ? 'block' : 'none';\n",
              "\n",
              "        async function convertToInteractive(key) {\n",
              "          const element = document.querySelector('#df-3dfbe3b0-07bc-43c3-bdcc-506aebc6b7b3');\n",
              "          const dataTable =\n",
              "            await google.colab.kernel.invokeFunction('convertToInteractive',\n",
              "                                                     [key], {});\n",
              "          if (!dataTable) return;\n",
              "\n",
              "          const docLinkHtml = 'Like what you see? Visit the ' +\n",
              "            '<a target=\"_blank\" href=https://colab.research.google.com/notebooks/data_table.ipynb>data table notebook</a>'\n",
              "            + ' to learn more about interactive tables.';\n",
              "          element.innerHTML = '';\n",
              "          dataTable['output_type'] = 'display_data';\n",
              "          await google.colab.output.renderOutput(dataTable, element);\n",
              "          const docLink = document.createElement('div');\n",
              "          docLink.innerHTML = docLinkHtml;\n",
              "          element.appendChild(docLink);\n",
              "        }\n",
              "      </script>\n",
              "    </div>\n",
              "  </div>\n"
            ]
          },
          "metadata": {},
          "execution_count": 15
        }
      ]
    },
    {
      "cell_type": "code",
      "source": [
        "from sklearn.preprocessing import StandardScaler, MinMaxScaler\n",
        "scaler  =  MinMaxScaler()\n",
        "input = np.array(x['num_sold']).reshape(-1,1)\n",
        "x_train, x_test = input[:-31][:], input[-31:][:]\n",
        "scaler.fit(input)\n",
        "x_train = scaler.transform(x_train)\n",
        "x_test =  scaler.transform(x_test)"
      ],
      "metadata": {
        "id": "vR7FOYtTcEby"
      },
      "execution_count": 16,
      "outputs": []
    },
    {
      "cell_type": "code",
      "source": [
        "def preprocessing(df,col,split_method='fixed', p = -31, window_size = 100):\n",
        "  if p<0 and split_method == 'ratio':\n",
        "    print(\"p can not be negative!\")\n",
        "    return\n",
        "  if split_method=='ratio' and (p>=1):\n",
        "    print(\"Incorrect split!\")\n",
        "    return\n",
        "  scaler = MinMaxScaler()\n",
        "  _data = np.array(df[col]).reshape(-1,1)\n",
        "  scaler.fit(_data)\n",
        "  data = scaler.transform(_data).flatten()\n",
        "  x = []\n",
        "  y = []\n",
        "  for i in range(0, len(data)-window_size):\n",
        "    x.append(data[i:i+window_size])\n",
        "    y.append([data[i+window_size]])\n",
        "  x = np.asarray(x, dtype=object)\n",
        "  y = np.asarray(y, dtype=object)\n",
        "  if split_method == 'ratio':\n",
        "    p = int(len(data)*p)\n",
        "  x_train = np.asarray(x[:p][:]).astype(np.float32)\n",
        "  y_train = np.asarray(y[:p][:]).astype(np.float32)\n",
        "  x_test =  np.asarray(x[p:][:]).astype(np.float32)\n",
        "  y_test =  np.asarray(y[p:][:]).astype(np.float32)\n",
        "  return scaler, x_train, y_train, x_test, y_test\n"
      ],
      "metadata": {
        "id": "RpuoXY5CIp8m"
      },
      "execution_count": 21,
      "outputs": []
    },
    {
      "cell_type": "code",
      "source": [
        "from keras.api._v2.keras.layers import LSTM, Dense\n",
        "\n",
        "def prediction(df, col, window_size=100):\n",
        "  scaler,  x_train, y_train, x_test, y_test = preprocessing(df, col, window_size=window_size)\n",
        "  conv_model = tf.keras.Sequential()\n",
        "  conv_model.add(LSTM(50, return_sequences=True, input_shape=(100,1)))\n",
        "  conv_model.add(LSTM(50))\n",
        "  conv_model.add(Dense(1))\n",
        "  conv_model.compile(loss='mean_squared_error', optimizer='adam')\n",
        "  conv_model.summary()\n",
        "  history = conv_model.fit(x_train, y_train, validation_data= (x_test,y_test), epochs=100, batch_size=64, verbose=1)\n",
        "\n",
        "  import IPython\n",
        "  x_ini = np.append(y_train.flatten(),y_test.flatten(), axis=0)[:100]\n",
        "\n",
        "  for i in range(365):\n",
        "    x_p = x_ini[:100].reshape(-1,100)\n",
        "    np.append(x_ini, conv_model.predict(x_p)[0])\n",
        "\n",
        "  IPython.display.clear_output()\n",
        "  y_pred = scaler.inverse_transform(x_ini[:365].reshape(-1,1)).flatten()\n",
        "  return history, y_pred\n",
        "\n"
      ],
      "metadata": {
        "id": "sNjgiIyLrQjw"
      },
      "execution_count": 22,
      "outputs": []
    },
    {
      "cell_type": "code",
      "source": [
        "y_predict = np.asarray([])\n",
        "for c in countries:\n",
        "  for s in stores:\n",
        "    for p in products:\n",
        "      x = df[(df['country']==c) & (df['store']==s) &(df['product']==p)][['date', 'num_sold']]\n",
        "      _, y_pred = prediction(x, col='num_sold')\n",
        "      y_predict = np.append(y_predict, y_pred)\n",
        "\n",
        "y_predict = y_predict.reshape(5,3,5,365)\n",
        "y_reshaper = []\n",
        "for i in range(365):\n",
        "  for c in range(len(countries)):\n",
        "    for s in range(len(stores)):\n",
        "      for p in range(len(products)):\n",
        "        y_reshaper.append(y_predict[c][s][p][i])\n"
      ],
      "metadata": {
        "id": "kLGBDtSOT5HA",
        "colab": {
          "base_uri": "https://localhost:8080/"
        },
        "outputId": "9bf83367-6b80-431a-9c0b-54a4bec06fe0"
      },
      "execution_count": null,
      "outputs": [
        {
          "output_type": "stream",
          "name": "stdout",
          "text": [
            "Model: \"sequential_1\"\n",
            "_________________________________________________________________\n",
            " Layer (type)                Output Shape              Param #   \n",
            "=================================================================\n",
            " lstm_2 (LSTM)               (None, 100, 50)           10400     \n",
            "                                                                 \n",
            " lstm_3 (LSTM)               (None, 50)                20200     \n",
            "                                                                 \n",
            " dense_1 (Dense)             (None, 1)                 51        \n",
            "                                                                 \n",
            "=================================================================\n",
            "Total params: 30,651\n",
            "Trainable params: 30,651\n",
            "Non-trainable params: 0\n",
            "_________________________________________________________________\n",
            "Epoch 1/100\n",
            "27/27 [==============================] - 10s 164ms/step - loss: 0.0221 - val_loss: 0.0140\n",
            "Epoch 2/100\n",
            "27/27 [==============================] - 4s 136ms/step - loss: 0.0057 - val_loss: 0.0137\n",
            "Epoch 3/100\n",
            "27/27 [==============================] - 4s 156ms/step - loss: 0.0049 - val_loss: 0.0146\n",
            "Epoch 4/100\n",
            "27/27 [==============================] - 3s 120ms/step - loss: 0.0050 - val_loss: 0.0146\n",
            "Epoch 5/100\n",
            "27/27 [==============================] - 3s 121ms/step - loss: 0.0048 - val_loss: 0.0150\n",
            "Epoch 6/100\n",
            "27/27 [==============================] - 4s 163ms/step - loss: 0.0049 - val_loss: 0.0145\n",
            "Epoch 7/100\n",
            "27/27 [==============================] - 3s 123ms/step - loss: 0.0049 - val_loss: 0.0152\n",
            "Epoch 8/100\n",
            "27/27 [==============================] - 3s 121ms/step - loss: 0.0048 - val_loss: 0.0137\n",
            "Epoch 9/100\n",
            "27/27 [==============================] - 3s 120ms/step - loss: 0.0048 - val_loss: 0.0149\n",
            "Epoch 10/100\n",
            "27/27 [==============================] - 4s 168ms/step - loss: 0.0047 - val_loss: 0.0136\n",
            "Epoch 11/100\n",
            "27/27 [==============================] - 3s 121ms/step - loss: 0.0049 - val_loss: 0.0171\n",
            "Epoch 12/100\n",
            "27/27 [==============================] - 3s 122ms/step - loss: 0.0049 - val_loss: 0.0154\n",
            "Epoch 13/100\n",
            "27/27 [==============================] - 4s 147ms/step - loss: 0.0050 - val_loss: 0.0143\n",
            "Epoch 14/100\n",
            "27/27 [==============================] - 4s 137ms/step - loss: 0.0047 - val_loss: 0.0128\n",
            "Epoch 15/100\n",
            "27/27 [==============================] - 3s 120ms/step - loss: 0.0046 - val_loss: 0.0135\n",
            "Epoch 16/100\n",
            "27/27 [==============================] - 3s 123ms/step - loss: 0.0046 - val_loss: 0.0118\n",
            "Epoch 17/100\n",
            "27/27 [==============================] - 4s 167ms/step - loss: 0.0047 - val_loss: 0.0120\n",
            "Epoch 18/100\n",
            "27/27 [==============================] - 3s 121ms/step - loss: 0.0045 - val_loss: 0.0118\n",
            "Epoch 19/100\n",
            "27/27 [==============================] - 3s 121ms/step - loss: 0.0045 - val_loss: 0.0110\n",
            "Epoch 20/100\n",
            "27/27 [==============================] - 4s 131ms/step - loss: 0.0044 - val_loss: 0.0115\n",
            "Epoch 21/100\n",
            "27/27 [==============================] - 4s 154ms/step - loss: 0.0044 - val_loss: 0.0106\n",
            "Epoch 22/100\n",
            "27/27 [==============================] - 3s 121ms/step - loss: 0.0045 - val_loss: 0.0130\n",
            "Epoch 23/100\n",
            "27/27 [==============================] - 3s 121ms/step - loss: 0.0046 - val_loss: 0.0132\n",
            "Epoch 24/100\n",
            "27/27 [==============================] - 4s 167ms/step - loss: 0.0044 - val_loss: 0.0104\n",
            "Epoch 25/100\n",
            "27/27 [==============================] - 3s 121ms/step - loss: 0.0043 - val_loss: 0.0103\n",
            "Epoch 26/100\n",
            "27/27 [==============================] - 3s 121ms/step - loss: 0.0043 - val_loss: 0.0103\n",
            "Epoch 27/100\n",
            "27/27 [==============================] - 3s 122ms/step - loss: 0.0043 - val_loss: 0.0105\n",
            "Epoch 28/100\n",
            "27/27 [==============================] - 4s 168ms/step - loss: 0.0042 - val_loss: 0.0107\n",
            "Epoch 29/100\n",
            "27/27 [==============================] - 3s 121ms/step - loss: 0.0042 - val_loss: 0.0117\n",
            "Epoch 30/100\n",
            "27/27 [==============================] - 3s 122ms/step - loss: 0.0042 - val_loss: 0.0096\n",
            "Epoch 31/100\n",
            "27/27 [==============================] - 4s 154ms/step - loss: 0.0042 - val_loss: 0.0098\n",
            "Epoch 32/100\n",
            "27/27 [==============================] - 4s 132ms/step - loss: 0.0041 - val_loss: 0.0114\n",
            "Epoch 33/100\n",
            "27/27 [==============================] - 3s 121ms/step - loss: 0.0041 - val_loss: 0.0097\n",
            "Epoch 34/100\n",
            "27/27 [==============================] - 3s 123ms/step - loss: 0.0042 - val_loss: 0.0089\n",
            "Epoch 35/100\n",
            "27/27 [==============================] - 5s 171ms/step - loss: 0.0039 - val_loss: 0.0096\n",
            "Epoch 36/100\n",
            "27/27 [==============================] - 3s 121ms/step - loss: 0.0038 - val_loss: 0.0091\n",
            "Epoch 37/100\n",
            "27/27 [==============================] - 3s 122ms/step - loss: 0.0037 - val_loss: 0.0090\n",
            "Epoch 38/100\n",
            "27/27 [==============================] - 4s 139ms/step - loss: 0.0037 - val_loss: 0.0086\n",
            "Epoch 39/100\n",
            "27/27 [==============================] - 4s 145ms/step - loss: 0.0036 - val_loss: 0.0092\n",
            "Epoch 40/100\n",
            "27/27 [==============================] - 3s 122ms/step - loss: 0.0036 - val_loss: 0.0086\n",
            "Epoch 41/100\n",
            "27/27 [==============================] - 3s 123ms/step - loss: 0.0036 - val_loss: 0.0092\n",
            "Epoch 42/100\n",
            "27/27 [==============================] - 4s 168ms/step - loss: 0.0035 - val_loss: 0.0083\n",
            "Epoch 43/100\n",
            "27/27 [==============================] - 3s 122ms/step - loss: 0.0036 - val_loss: 0.0085\n",
            "Epoch 44/100\n",
            "27/27 [==============================] - 3s 121ms/step - loss: 0.0035 - val_loss: 0.0083\n",
            "Epoch 45/100\n",
            "27/27 [==============================] - 3s 128ms/step - loss: 0.0035 - val_loss: 0.0095\n",
            "Epoch 46/100\n",
            "27/27 [==============================] - 4s 157ms/step - loss: 0.0035 - val_loss: 0.0093\n",
            "Epoch 47/100\n",
            "27/27 [==============================] - 3s 121ms/step - loss: 0.0034 - val_loss: 0.0080\n",
            "Epoch 48/100\n",
            "27/27 [==============================] - 3s 120ms/step - loss: 0.0034 - val_loss: 0.0078\n",
            "Epoch 49/100\n",
            "18/27 [===================>..........] - ETA: 1s - loss: 0.0034"
          ]
        }
      ]
    },
    {
      "cell_type": "code",
      "source": [
        "predict = pd.read_csv('test.csv')\n",
        "predict['num_sold'] = y_reshaper\n",
        "predict['num_sold'] = predict['num_sold'].map(lambda x: round(x))"
      ],
      "metadata": {
        "id": "Keo9ehCIwF4D"
      },
      "execution_count": null,
      "outputs": []
    },
    {
      "cell_type": "code",
      "source": [
        "ans = predict[['id', 'num_sold']]\n",
        "ans.to_csv('output.csv', index = False)"
      ],
      "metadata": {
        "id": "-I7xNPTJy_5P"
      },
      "execution_count": null,
      "outputs": []
    },
    {
      "cell_type": "code",
      "source": [
        "!kaggle competitions submit -c playground-series-s3e19 -f output.csv -m \"First Run\""
      ],
      "metadata": {
        "id": "hKjXvdaI178K"
      },
      "execution_count": null,
      "outputs": []
    },
    {
      "cell_type": "code",
      "source": [
        "pd.read_csv('test.csv')"
      ],
      "metadata": {
        "id": "m5mcwV6iNjJP"
      },
      "execution_count": null,
      "outputs": []
    },
    {
      "cell_type": "code",
      "source": [],
      "metadata": {
        "id": "3sCKXK5Nac0p"
      },
      "execution_count": null,
      "outputs": []
    },
    {
      "cell_type": "code",
      "source": [
        "MAX_EPOCHS = 20\n",
        "\n",
        "def compile_and_fit(model, window, patience=2):\n",
        "  early_stopping = tf.keras.callbacks.EarlyStopping(monitor='val_loss',\n",
        "                                                    patience=patience,\n",
        "                                                    mode='min')\n",
        "\n",
        "  model.compile(loss=tf.keras.losses.MeanSquaredError(),\n",
        "                optimizer=tf.keras.optimizers.Adam(),\n",
        "                metrics=[tf.keras.metrics.MeanAbsoluteError()])\n",
        "\n",
        "  history = model.fit(window.train, epochs=MAX_EPOCHS,\n",
        "                      validation_data=window.val,\n",
        "                      callbacks=[early_stopping])\n",
        "  return history"
      ],
      "metadata": {
        "id": "ymAOSR3xQ1A7"
      },
      "execution_count": null,
      "outputs": []
    },
    {
      "cell_type": "code",
      "source": [
        "# CONV_WIDTH = 3\n",
        "# conv_model = tf.keras.Sequential([\n",
        "#     tf.keras.layers.Conv1D(filters=32,\n",
        "#                            kernel_size=(CONV_WIDTH,),\n",
        "#                            activation='relu'),\n",
        "#     tf.keras.layers.Dense(units=32, activation='relu'),\n",
        "#     tf.keras.layers.Dense(units=1),\n",
        "# ])\n",
        "\n",
        "# CONV_WIDTH = 3\n",
        "# conv_window = WindowGenerator(\n",
        "#     input_width=CONV_WIDTH,\n",
        "#     label_width=1,\n",
        "#     shift=1,\n",
        "#     label_columns=['T (degC)'])\n",
        "\n",
        "# history = compile_and_fit(conv_model, conv_window)\n",
        "\n",
        "# # IPython.display.clear_output()\n",
        "# val_performance= {}\n",
        "# performance = {}\n",
        "# val_performance['Conv'] = conv_model.evaluate(conv_window.val)\n",
        "# performance['Conv'] = conv_model.evaluate(conv_window.test, verbose=0)"
      ],
      "metadata": {
        "id": "uQ9CNFujWgKO"
      },
      "execution_count": null,
      "outputs": []
    },
    {
      "cell_type": "code",
      "source": [
        "# def create_window(data, length=100):\n",
        "#   x_train = np.asarray(data).flatten()\n",
        "#   x = []\n",
        "#   y = []\n",
        "#   for i in range(0, len(x_train)-length):\n",
        "#     x.append(x_train[i:i+length])\n",
        "#     y.append(x_train[i+length])\n",
        "\n",
        "#   return np.asarray(x), np.asarray(y).reshape(-1,1)"
      ],
      "metadata": {
        "id": "gqeX8Ovq7i1T"
      },
      "execution_count": null,
      "outputs": []
    },
    {
      "cell_type": "code",
      "source": [
        "# x_train, y_train = create_window(x_train)"
      ],
      "metadata": {
        "id": "bo9fedLbq6ef"
      },
      "execution_count": null,
      "outputs": []
    },
    {
      "cell_type": "code",
      "source": [
        "# test =  pd.read_csv(\"test.csv\")\n",
        "# test.head()"
      ],
      "metadata": {
        "id": "tM2djGyf6GUK"
      },
      "execution_count": null,
      "outputs": []
    },
    {
      "cell_type": "code",
      "source": [
        "# class WindowGenerator():\n",
        "#   def __init__(self, input_width, label_width, shift,\n",
        "#               #  train_df, val_df, test_df,\n",
        "#               #  train_df=train_df, val_df=val_df, test_df=test_df,\n",
        "#                label_columns=None):\n",
        "#     # Store the raw data.\n",
        "#     self.train_df = train_df\n",
        "#     self.val_df = val_df\n",
        "#     self.test_df = test_df\n",
        "\n",
        "#     # Work out the label column indices.\n",
        "#     self.label_columns = label_columns\n",
        "#     if label_columns is not None:\n",
        "#       self.label_columns_indices = {name: i for i, name in\n",
        "#                                     enumerate(label_columns)}\n",
        "#     self.column_indices = {name: i for i, name in\n",
        "#                            enumerate(train_df.columns)}\n",
        "\n",
        "#     # Work out the window parameters.\n",
        "#     self.input_width = input_width\n",
        "#     self.label_width = label_width\n",
        "#     self.shift = shift\n",
        "\n",
        "#     self.total_window_size = input_width + shift\n",
        "\n",
        "#     self.input_slice = slice(0, input_width)\n",
        "#     self.input_indices = np.arange(self.total_window_size)[self.input_slice]\n",
        "\n",
        "#     self.label_start = self.total_window_size - self.label_width\n",
        "#     self.labels_slice = slice(self.label_start, None)\n",
        "#     self.label_indices = np.arange(self.total_window_size)[self.labels_slice]\n",
        "\n",
        "#   def __repr__(self):\n",
        "#     return '\\n'.join([\n",
        "#         f'Total window size: {self.total_window_size}',\n",
        "#         f'Input indices: {self.input_indices}',\n",
        "#         f'Label indices: {self.label_indices}',\n",
        "#         f'Label column name(s): {self.label_columns}'])"
      ],
      "metadata": {
        "id": "bdQMvDvW6_tr"
      },
      "execution_count": null,
      "outputs": []
    },
    {
      "cell_type": "code",
      "source": [
        "# conv_window = WindowGenerator(\n",
        "#     input_width=CONV_WIDTH,\n",
        "#     label_width=1,\n",
        "#     shift=1,\n",
        "#     label_columns=['num_sold'])\n",
        "\n",
        "# conv_window.val"
      ],
      "metadata": {
        "id": "2gVos0tsX63Z"
      },
      "execution_count": null,
      "outputs": []
    }
  ]
}
