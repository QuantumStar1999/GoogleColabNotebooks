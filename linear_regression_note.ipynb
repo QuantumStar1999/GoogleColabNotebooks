{
  "nbformat": 4,
  "nbformat_minor": 0,
  "metadata": {
    "colab": {
      "provenance": [],
      "authorship_tag": "ABX9TyM5nfQWtqabxMKKgKABJWnC",
      "include_colab_link": true
    },
    "kernelspec": {
      "name": "python3",
      "display_name": "Python 3"
    },
    "language_info": {
      "name": "python"
    }
  },
  "cells": [
    {
      "cell_type": "markdown",
      "metadata": {
        "id": "view-in-github",
        "colab_type": "text"
      },
      "source": [
        "<a href=\"https://colab.research.google.com/github/QuantumStar1999/GoogleColabNotebooks/blob/main/linear_regression_note.ipynb\" target=\"_parent\"><img src=\"https://colab.research.google.com/assets/colab-badge.svg\" alt=\"Open In Colab\"/></a>"
      ]
    },
    {
      "cell_type": "markdown",
      "source": [
        "# **Linear Regression**\n",
        "\n",
        "- Concept of Trace\n",
        "  1. Trace is defined for square matrices. Let's say A as n x n matrix.\n",
        "$$trace(A)=\\sum_{i=1}^{n}A_{ii}$$\n",
        "  1. $trace(A)=trace(A^T)$\n",
        "  1. $trace(AB)=trace(BA)$\n",
        "  1. $trace(ABC)=trace(CAB)=trace(BCA)$\n",
        "  1. If cost function is defined as $f(A):=trace(AB)$,then gradient will be $\\nabla_{A}f(A)=B^T$\n",
        "  1. $f(A):=trace(AA^TC) \\implies \\nabla_{A}f(A)=C^TA+CA$\n",
        "```latex\n",
        "Not recomended and it has some error in writing.\n",
        "```\n",
        "    - Short Proof:\n",
        "\n",
        "      $\\nabla_{A}f(A)= \\frac{\\partial f}{\\partial A}+(\\frac{\\partial f}{\\partial A^T})^T$\n",
        "\n",
        "      $\\frac{\\partial f}{\\partial A}=(A^TC)^T=C^TA$    [ point no: 5 ]\n",
        "\n",
        "      Now, $trace(AA^TC)=trace(A^TCA)$\n",
        "\n",
        "      $\\frac{\\partial f}{\\partial A^T}=(CA)^T$\n",
        "\n",
        "      $\\therefore \\nabla_{A}f(A)=C^TA+CA$\n"
      ],
      "metadata": {
        "id": "YVzEbJxSsUFL"
      }
    },
    {
      "cell_type": "code",
      "execution_count": null,
      "metadata": {
        "id": "S0rzd04_r-jS"
      },
      "outputs": [],
      "source": []
    }
  ]
}